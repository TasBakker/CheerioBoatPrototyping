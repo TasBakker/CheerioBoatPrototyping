{
 "cells": [
  {
   "cell_type": "markdown",
   "id": "737ae42f",
   "metadata": {},
   "source": [
    "This notebook is intended to be used to track the cheerioboats by filming the boats from the top down. The velocity/angular velocity calculations expect there to be only one boat. \n",
    "\n",
    "\n",
    "Special thanks to Jackson Wilt, Nico Schramma & Vera Horjus for providing code on which this notebook is adapted from."
   ]
  },
  {
   "cell_type": "code",
   "execution_count": null,
   "id": "448fe393",
   "metadata": {},
   "outputs": [],
   "source": [
    "# Importing relevant packages\n",
    "import cv2\n",
    "import numpy as np\n",
    "import pims\n",
    "import trackpy as tp\n",
    "import pandas as pd\n",
    "import matplotlib.pyplot as plt\n",
    "from copy import copy\n",
    "import warnings\n",
    "warnings.simplefilter(action='ignore', category=FutureWarning)\n",
    "\n",
    "#%matplotlib tk # uncomment dit als je interactieve plots wilt hebben (je moet de kernel restarten als je dit weer uit wilt zetten)"
   ]
  },
  {
   "cell_type": "markdown",
   "id": "99d2aaf5",
   "metadata": {},
   "source": [
    "## Loading in video\n",
    "In the cell below you can put the name of the video you want to be analysed. Make sure you put the video in the same folder as where the file with this code is put."
   ]
  },
  {
   "cell_type": "code",
   "execution_count": null,
   "id": "80c6d153",
   "metadata": {},
   "outputs": [],
   "source": [
    "fileName = r'Tracking_videos\\25-4-2025\\20250425_135333.mp4'\n",
    "\n",
    "video = pims.Video(fileName) # Loading in video and converting them to individual frames\n",
    "duration = video.duration # Duration of video in seconds\n",
    "frameRate = video.frame_rate # Framerate of video\n",
    "\n",
    "print(f'duration:{round(duration,3)}, framerate: {round(frameRate,3)}, # of frames: {round(duration * frameRate)}')"
   ]
  },
  {
   "cell_type": "markdown",
   "id": "e1ef26ac",
   "metadata": {},
   "source": [
    "Use the snippet of code underneath if you want to only analyse a selection of frames. When working with large videos it is advisable to first test your code on a small selection of frames. This way you can quickly see if everything works as expected!"
   ]
  },
  {
   "cell_type": "code",
   "execution_count": null,
   "id": "9d2b66e7",
   "metadata": {},
   "outputs": [],
   "source": [
    "startframe = 0\n",
    "endframe = len(video)\n",
    "frames = video[startframe:endframe]\n",
    "print('Amount of frames:', len(frames))"
   ]
  },
  {
   "cell_type": "code",
   "execution_count": null,
   "id": "31488778",
   "metadata": {},
   "outputs": [],
   "source": [
    "def boatCentre(frames, shorten = 1, reducefps = 3, colorthreshold = 0.3):\n",
    "    \"\"\"\n",
    "    Args:\n",
    "        frames: frames to be analysed\n",
    "        shorten: how much of the video needs to be analyzed. (1 is everything)\n",
    "        reducefps: reduce the amount of frames used i.e. every n'th frame.\n",
    "        colorthreshold: threshold value for when to count the pixel as a tracking cap 0 means everything counts\n",
    "\n",
    "    Returns:\n",
    "       positions [np.array]: list of frames with only the positions of the tracking dots highlited.\n",
    "       blurs [np.array]: list of frames with the results of the blurring and clipping shown.\n",
    "       newset [np.array]: list of original frames with the tracked dots highlited with circles.\n",
    "       circstore [list]: list with lists of tuples containing the information (pos & radius) of each circle per frame.\n",
    "       indecesused [list]: list of the indeces corresponding to the frames that were processed from the frames input.\n",
    "    \"\"\"\n",
    "\n",
    "    circstore = [] # list of lists with tuples containing the info of the circles per frame\n",
    "    positions, blurs, newset = [], [], [] #lists to be filled with their respective frame types\n",
    "    indecesused = [] #\n",
    "\n",
    "    for i in range(0,int(len(frames)/shorten),reducefps):\n",
    "        indecesused.append(i)\n",
    "        cimg= copy(frames[i]) # makes a copy of the original frame as to not edit over the original\n",
    "\n",
    "        r,gr,b = cv2.split(frames[i]) # split the color image into different channels    \n",
    "        blurthis = (abs((r/255)-(gr/255))+abs((gr/255)-(b/255))+abs((r/255)-(b/255))) # calculate the color difference for each pixel from 0-1 (this highlights pixels with a lot of a single color)\n",
    "\n",
    "        blurthis[blurthis>=colorthreshold] = 255 # set color difference values above a threshold to max intensity\n",
    "        blurthis[blurthis<colorthreshold] = 0 # set color difference values below the same threshold to zero intenisty\n",
    "        blur = cv2.medianBlur(np.uint8(blurthis), ksize=9) # blur to help houghcircles. If all went well, only the colored dots on the cheerioboat remain.\n",
    "\n",
    "        circles = cv2.HoughCircles(blur, cv2.HOUGH_GRADIENT, dp=1.5, minDist=35, param1=60, param2=10, minRadius=4, maxRadius=20) # actually find the circles in the edited image  #60,10\n",
    "        circles = np.uint16(np.around(circles)) # round the found circle positions and radii\n",
    "        \n",
    "        circstore.append(circles) # save the positions and radii of the circles\n",
    "        # blur = cv2.cvtColor(blur,cv2.COLOR_GRAY2RGB)\n",
    "\n",
    "        background = np.zeros_like(blur, np.uint8) # create a black greyscale background \n",
    "    \n",
    "        for j in circles[0,:]:\n",
    "            # draw the centers of the circles\n",
    "            cv2.circle(background,(j[0],j[1]),3,(255,0,0),-1) \n",
    "            cv2.circle(blur,(j[0],j[1]),3,255, -1) \n",
    "            cv2.circle(cimg,(j[0],j[1]),3,(255,0,0),-1) \n",
    "            \n",
    "            # draw the edge of the circles\n",
    "            # cv2.circle(background,(i[0],i[1]),i[2],(0,255,0),1)\n",
    "            cv2.circle(blur,(j[0],j[1]),j[2],(0,255,0),1)\n",
    "            cv2.circle(cimg,(j[0],j[1]),j[2],(0,255,0),1)\n",
    "        \n",
    "        positions.append(background)\n",
    "        blurs.append(blur)\n",
    "        newset.append(cimg)\n",
    "\n",
    "        print('finished frame:', i)\n",
    "    \n",
    "    return np.array(positions), np.array(blurs), np.array(newset), circstore, indecesused"
   ]
  },
  {
   "cell_type": "markdown",
   "id": "0c1cf2cb",
   "metadata": {},
   "source": [
    "## Editing all frames"
   ]
  },
  {
   "cell_type": "code",
   "execution_count": null,
   "id": "03dae14d",
   "metadata": {
    "scrolled": true
   },
   "outputs": [],
   "source": [
    "# returns frames with dots placed in the centre of mass of the boats for all frames, reducefps takes every nth frame i.e. =3 means every third frame\n",
    "# use this to speed up processing, but be mindful that the linking may fail at a too low framerate\n",
    "# the colorthreshold can be lowered or heightened to change the sensitivity of finding noteworty colors (trackingdots)\n",
    "positions, _, newset, _, indecesused,= boatCentre(frames, reducefps=3, colorthreshold=0.3) "
   ]
  },
  {
   "cell_type": "code",
   "execution_count": null,
   "id": "ea74d8a0",
   "metadata": {},
   "outputs": [],
   "source": [
    "# use this to check your results\n",
    "fig, axs = plt.subplots(1,2, figsize=(10,6))\n",
    "axs[0].imshow(newset[0])\n",
    "axs[0].set_title('Frame')\n",
    "axs[1].imshow(positions[0])\n",
    "axs[1].set_title('Circle positions')\n",
    "\n",
    "plt.show()"
   ]
  },
  {
   "cell_type": "markdown",
   "id": "03d9efa8",
   "metadata": {},
   "source": [
    "The cell below will search for all the dots we put in the frames and save their positions.\n",
    "We've now got locations for all our dots! But to get information on the movement of the boats it is important that we can label boats. The code snippet below will compare all our dots frame by frame and detect which ones are which boat."
   ]
  },
  {
   "cell_type": "code",
   "execution_count": null,
   "id": "bb30ed67",
   "metadata": {},
   "outputs": [],
   "source": [
    "f = tp.batch(positions, diameter=5, minmass=20, processes='auto', invert=False)#37\n",
    "\n",
    "t = tp.link(f, search_range=140, memory=20)# WAS 90\n",
    "# t = tp.filter_stubs(t,t['frame'].max() * 0.70 )\n",
    "\n",
    "framelist = list(set(t['frame'])) # create a list of all available frame numbers\n",
    "\n",
    "t"
   ]
  },
  {
   "cell_type": "markdown",
   "id": "e67c7427",
   "metadata": {},
   "source": [
    "## Velocity\n",
    "\n",
    "All of the next code assumes that the first two found 'particles' are the the tracking dots of the cheerio boat."
   ]
  },
  {
   "cell_type": "code",
   "execution_count": null,
   "id": "27a9aebe",
   "metadata": {},
   "outputs": [],
   "source": [
    "x = []\n",
    "y = []\n",
    "\n",
    "# calculate the center of the boat \n",
    "for framenr in framelist:\n",
    "    try:\n",
    "        x.append(0.5 * sum(t.loc[t['frame'] == framenr]['x']))\n",
    "        y.append(0.5 * sum(t.loc[t['frame'] == framenr]['y']))\n",
    "    except:\n",
    "        try: \n",
    "            x.append(x[-1])\n",
    "            y.append(y[-1])\n",
    "        except:\n",
    "            x.append(0)\n",
    "            y.append(0)\n",
    "\n",
    "v_x = (np.insert(x, 0, 0) - np.insert(x, -1, 0))[1:-1] / (np.insert(framelist, 0, 0) - np.insert(framelist, -1, 0))[1:-1]\n",
    "v_y = (np.insert(y, 0, 0) - np.insert(y, -1, 0))[1:-1] / (np.insert(framelist, 0, 0) - np.insert(framelist, -1, 0))[1:-1]\n",
    "velocity = np.sqrt(np.square(x) + np.square(y))"
   ]
  },
  {
   "cell_type": "code",
   "execution_count": null,
   "id": "8e106dcb",
   "metadata": {},
   "outputs": [],
   "source": [
    "plt.scatter(framelist, velocity, s=2)\n",
    "plt.xlabel('frame nr')\n",
    "plt.ylabel('velocity (pixels/frame)')\n",
    "plt.xlim(min(framelist), max(framelist))\n",
    "plt.show()"
   ]
  },
  {
   "cell_type": "markdown",
   "id": "81a58745",
   "metadata": {},
   "source": [
    "## Angular velocity"
   ]
  },
  {
   "cell_type": "code",
   "execution_count": null,
   "id": "20030dd6",
   "metadata": {},
   "outputs": [],
   "source": [
    "theta = []\n",
    "particles = list(set(t['particle']))\n",
    "for framenr in framelist:\n",
    "    tt = t[t['frame'] == framenr]\n",
    "    try: # calculate the angle of the particle with respect to an arbitrary axis\n",
    "        dx = float((tt.loc[tt['particle'] == particles[1], ['x']]).iloc[0]) - float((tt.loc[tt['particle'] == particles[0], ['x']]).iloc[0])\n",
    "        dy = float((tt.loc[tt['particle'] == particles[1], ['y']]).iloc[0]) - float((tt.loc[tt['particle'] == particles[0], ['y']]).iloc[0])\n",
    "        theta.append(np.arctan(np.abs(dy/dx)))\n",
    "    except: # if a frame does not have every particle, repeat the previous value\n",
    "        theta.append(theta[-1])\n",
    "\n",
    "\n",
    "# from the obtained angles, calculate the angular velocity in terms of radians per frame\n",
    "omega = (np.insert(theta, 0, 0) - np.insert(theta, -1, 0))[1:-1] / (np.insert(framelist, 0, 0) - np.insert(framelist, -1, 0))[1:-1]"
   ]
  },
  {
   "cell_type": "code",
   "execution_count": null,
   "id": "dcc59241",
   "metadata": {},
   "outputs": [],
   "source": [
    "\n",
    "fig, (ax1, ax2) = plt.subplots(1, 2, figsize=(12,5), constrained_layout=True)\n",
    "\n",
    "ax1.plot(framelist, theta)\n",
    "ax1.set_title('Angle of the cheerioboat')\n",
    "ax1.set_xlabel('frame nr')\n",
    "ax1.set_ylabel('angle (radians)')\n",
    "ax1.set_xlim(min(framelist), max(framelist))\n",
    "ax1.set_ylim(0, np.pi / 2)\n",
    "\n",
    "ax2.plot(framelist[:-1], omega)\n",
    "ax2.set_title('Angular velocity of the cheerioboat')\n",
    "ax2.set_xlabel('frame nr')\n",
    "ax2.set_ylabel('angular velocity (radians/frame)')\n",
    "ax2.set_xlim(min(framelist), max(framelist))\n",
    "\n",
    "fig.savefig()"
   ]
  },
  {
   "cell_type": "code",
   "execution_count": null,
   "id": "ccbad410",
   "metadata": {},
   "outputs": [],
   "source": [
    "\n",
    "plt.plot(framelist[:-1], omega)\n",
    "plt.title()\n",
    "plt.xlabel('frame nr')\n",
    "plt.ylabel()\n",
    "plt.xlim(min(framelist), max(framelist))\n",
    "plt.show()"
   ]
  },
  {
   "cell_type": "markdown",
   "id": "2b5e344c",
   "metadata": {},
   "source": [
    "## Average speed"
   ]
  },
  {
   "cell_type": "code",
   "execution_count": null,
   "id": "ce27dd66",
   "metadata": {},
   "outputs": [],
   "source": [
    "displacement = []\n",
    "averageSpeed = []\n",
    "for i in list(set(t['particle'])):\n",
    "    tt = t.loc[t['particle'] == i]\n",
    "    tt = tt.reset_index()\n",
    "    S = 0 \n",
    "    for j in range(1, len(tt['x'])):\n",
    "        ds = np.sqrt((tt['x'].iloc[j] - tt['x'].iloc[j - 1])**2 + (tt['y'].iloc[j] - tt['y'].iloc[j - 1])**2)\n",
    "        S = S + ds\n",
    "    displacement.append(S)\n",
    "    averageSpeed.append(S/duration)\n",
    "\n",
    "data = {\n",
    "    'particle':  list(set(t['particle'])),\n",
    "    'displacement' : displacement,\n",
    "    'averageSpeed' : averageSpeed\n",
    "}\n",
    "df = pd.DataFrame(data)\n",
    "display(df)"
   ]
  },
  {
   "cell_type": "code",
   "execution_count": null,
   "id": "5077f304",
   "metadata": {},
   "outputs": [],
   "source": [
    "if t['particle'].max() != 0:\n",
    "    for i in list(set(t['particle'])):\n",
    "        tt = t.loc[t['particle']==i]\n",
    "        plt.plot(tt['frame'], np.sqrt(tt['y']**2 + tt['x']**2), label = i)\n",
    "else:\n",
    "    plt.plot(tt['frame'], np.sqrt(tt['y']**2 + tt['x']**2), label = 0)\n",
    "plt.legend()\n",
    "plt.show()"
   ]
  },
  {
   "cell_type": "markdown",
   "id": "cffc437a",
   "metadata": {},
   "source": [
    "We've now got the trajectory of our boats! :D"
   ]
  }
 ],
 "metadata": {
  "kernelspec": {
   "display_name": "cheerio",
   "language": "python",
   "name": "python3"
  },
  "language_info": {
   "codemirror_mode": {
    "name": "ipython",
    "version": 3
   },
   "file_extension": ".py",
   "mimetype": "text/x-python",
   "name": "python",
   "nbconvert_exporter": "python",
   "pygments_lexer": "ipython3",
   "version": "3.13.2"
  }
 },
 "nbformat": 4,
 "nbformat_minor": 5
}
