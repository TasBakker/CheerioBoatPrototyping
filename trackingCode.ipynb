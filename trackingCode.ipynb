{
 "cells": [
  {
   "cell_type": "markdown",
   "id": "76111ef3",
   "metadata": {},
   "source": [
    "# Marangoni boat project code"
   ]
  },
  {
   "cell_type": "markdown",
   "id": "e55a3fb0",
   "metadata": {},
   "source": [
    "Welcome to this notebook with code to be used for the data analysis of the boats :) This notebook contains code adapted from original code written by Jackson Wilt and Nico Schramma.\n",
    "<br />\n",
    "This notebook contains all data you can use for analysis of the boats, with some comments on how it works. Feel free to copy the notebook and make changes or adaptations however you see fit."
   ]
  },
  {
   "cell_type": "code",
   "execution_count": null,
   "id": "448fe393",
   "metadata": {},
   "outputs": [],
   "source": [
    "\n",
    "# Importing relevant packages\n",
    "import cv2\n",
    "import numpy as np\n",
    "import pims\n",
    "import trackpy as tp\n",
    "import pandas as pd\n",
    "from pathlib import Path\n",
    "import matplotlib.pyplot as plt\n",
    "from copy import copy"
   ]
  },
  {
   "cell_type": "markdown",
   "id": "99d2aaf5",
   "metadata": {},
   "source": [
    "## Loading in video\n",
    "In the cell below you can put the name of the video you want to be analysed. Make sure you put the video in the same folder as where the file with this code is put."
   ]
  },
  {
   "cell_type": "code",
   "execution_count": 2,
   "id": "826e2753",
   "metadata": {},
   "outputs": [],
   "source": [
    "fileName = r'Tracking_videos\\7-4-2025\\nozzle_0.1mmTOL.mp4'"
   ]
  },
  {
   "cell_type": "code",
   "execution_count": 3,
   "id": "80c6d153",
   "metadata": {},
   "outputs": [
    {
     "name": "stdout",
     "output_type": "stream",
     "text": [
      "duration:38.669, framerate: 29.998, # of frames: 1160\n"
     ]
    }
   ],
   "source": [
    "video = pims.Video(fileName) # Loading in video and converting them to individual frames\n",
    "duration = video.duration # Duration of video in seconds\n",
    "frameRate = video.frame_rate # Framerate of video\n",
    "\n",
    "print(f'duration:{round(duration,3)}, framerate: {round(frameRate,3)}, # of frames: {round(duration * frameRate)}')"
   ]
  },
  {
   "cell_type": "markdown",
   "id": "e1ef26ac",
   "metadata": {},
   "source": [
    "Use the snippet of code underneath if you want to only analyse a selection of frames. When working with large videos it is advisable to first test your code on a small selection of frames. This way you can quickly see if everything works as expected!"
   ]
  },
  {
   "cell_type": "code",
   "execution_count": 18,
   "id": "9d2b66e7",
   "metadata": {},
   "outputs": [
    {
     "name": "stdout",
     "output_type": "stream",
     "text": [
      "Amount of frames: 720\n"
     ]
    }
   ],
   "source": [
    "startframe = 180\n",
    "endframe = 900\n",
    "frames = video[startframe:endframe]\n",
    "print('Amount of frames:', len(frames))"
   ]
  },
  {
   "cell_type": "code",
   "execution_count": 19,
   "id": "31488778",
   "metadata": {},
   "outputs": [],
   "source": [
    "def boatCentre(frames):\n",
    "    \"\"\"\n",
    "    Args:\n",
    "        frames to be analysed\n",
    "\n",
    "    Returns:\n",
    "       positions [np.array]: list of frames with only the positions of the tracking dots highlited.\n",
    "       blurs [np.array]: list of frames with the results of the blurring and clipping shown.\n",
    "       newset [np.array]: list of original frames with the tracked dots highlited with circles.\n",
    "       circstore [list]: list with lists of tuples containing the information (pos & radius) of each circle per frame.\n",
    "       indecesused [list]: list of the indeces corresponding to the frames that were processed from the frames input.\n",
    "    \"\"\"\n",
    "    circstore = [] # list of lists with tuples containing the info of the circles per frame\n",
    "    shorten = 1 #10\n",
    "    reducefps = 12\n",
    "    colorthreshold = 0.35 # threshold value for when to count the pixel as a tracking cap 0 means everything counts\n",
    "    positions, blurs, newset = [], [], [] #lists to be filled with their respective frame types\n",
    "    indecesused = []\n",
    "\n",
    "    for i in range(0,int(len(frames)/shorten),reducefps):\n",
    "        indecesused.append(i)\n",
    "        cimg= copy(frames[i]) # makes a copy of the original frame as to not edit over the original\n",
    "\n",
    "        r,gr,b = cv2.split(frames[i]) # split the color image into different channels    \n",
    "        blurthis = (abs((r/255)-(gr/255))+abs((gr/255)-(b/255))+abs((r/255)-(b/255))) # calculate the color difference for each pixel from 0-1 (this highlights pixels with a lot of a single color)\n",
    "\n",
    "        blurthis[blurthis>=colorthreshold] = 255 # set color difference values above a threshold to max intensity\n",
    "        blurthis[blurthis<colorthreshold] = 0 # set color difference values below the same threshold to zero intenisty\n",
    "        blur = cv2.medianBlur(np.uint8(blurthis), ksize=7) # blur to help houghcircles. If all went well, only the colored dots on the cheerioboat remain.\n",
    "\n",
    "        circles = cv2.HoughCircles(blur, cv2.HOUGH_GRADIENT, dp=1.5, minDist=35, param1=60, param2=10, minRadius=2, maxRadius=20) # actually find the circles in the edited image \n",
    "        circles = np.uint16(np.around(circles)) # round the found circle positions and radii\n",
    "        \n",
    "        circstore.append(circles) # save the positions and radii of the circles\n",
    "        # blur = cv2.cvtColor(blur,cv2.COLOR_GRAY2RGB)\n",
    "\n",
    "        background = np.zeros_like(blur, np.uint8) # create a black greyscale background \n",
    "    \n",
    "        for j in circles[0,:]:\n",
    "            # draw the centers of the circles\n",
    "            cv2.circle(background,(j[0],j[1]),3,(255,0,0),-1) \n",
    "            cv2.circle(blur,(j[0],j[1]),3,255, -1) \n",
    "            cv2.circle(cimg,(j[0],j[1]),3,(255,0,0),-1) \n",
    "            \n",
    "            # draw the edge of the circles\n",
    "            # cv2.circle(background,(i[0],i[1]),i[2],(0,255,0),1)\n",
    "            cv2.circle(blur,(j[0],j[1]),j[2],(0,255,0),1)\n",
    "            cv2.circle(cimg,(j[0],j[1]),j[2],(0,255,0),1)\n",
    "        \n",
    "        positions.append(background)\n",
    "        blurs.append(blur)\n",
    "        newset.append(cimg)\n",
    "\n",
    "        print('finished frame:', i)\n",
    "    \n",
    "    return np.array(positions), np.array(blurs), np.array(newset), circstore, indecesused"
   ]
  },
  {
   "cell_type": "markdown",
   "id": "0c1cf2cb",
   "metadata": {},
   "source": [
    "## Editing all frames"
   ]
  },
  {
   "cell_type": "code",
   "execution_count": 43,
   "id": "03dae14d",
   "metadata": {
    "scrolled": true
   },
   "outputs": [
    {
     "name": "stdout",
     "output_type": "stream",
     "text": [
      "finished frame: 0\n",
      "finished frame: 12\n",
      "finished frame: 24\n",
      "finished frame: 36\n",
      "finished frame: 48\n",
      "finished frame: 60\n",
      "finished frame: 72\n",
      "finished frame: 84\n",
      "finished frame: 96\n",
      "finished frame: 108\n",
      "finished frame: 120\n",
      "finished frame: 132\n",
      "finished frame: 144\n",
      "finished frame: 156\n",
      "finished frame: 168\n",
      "finished frame: 180\n",
      "finished frame: 192\n",
      "finished frame: 204\n",
      "finished frame: 216\n",
      "finished frame: 228\n",
      "finished frame: 240\n",
      "finished frame: 252\n",
      "finished frame: 264\n",
      "finished frame: 276\n",
      "finished frame: 288\n",
      "finished frame: 300\n",
      "finished frame: 312\n",
      "finished frame: 324\n",
      "finished frame: 336\n",
      "finished frame: 348\n",
      "finished frame: 360\n",
      "finished frame: 372\n",
      "finished frame: 384\n",
      "finished frame: 396\n",
      "finished frame: 408\n",
      "finished frame: 420\n",
      "finished frame: 432\n",
      "finished frame: 444\n",
      "finished frame: 456\n",
      "finished frame: 468\n",
      "finished frame: 480\n",
      "finished frame: 492\n",
      "finished frame: 504\n",
      "finished frame: 516\n",
      "finished frame: 528\n",
      "finished frame: 540\n",
      "finished frame: 552\n",
      "finished frame: 564\n",
      "finished frame: 576\n",
      "finished frame: 588\n",
      "finished frame: 600\n",
      "finished frame: 612\n",
      "finished frame: 624\n",
      "finished frame: 636\n",
      "finished frame: 648\n",
      "finished frame: 660\n",
      "finished frame: 672\n",
      "finished frame: 684\n",
      "finished frame: 696\n",
      "finished frame: 708\n"
     ]
    }
   ],
   "source": [
    "positions, _, newset, _, indecesused,= boatCentre(frames) # returns frames with dots placed in the centre of mass of the boats for all frames\n",
    "\n",
    "# print('aantal cirkels:', int(len(np.ndarray.flatten(np.array(circstore)))/3))"
   ]
  },
  {
   "cell_type": "code",
   "execution_count": 44,
   "id": "ea74d8a0",
   "metadata": {},
   "outputs": [],
   "source": [
    "%matplotlib tk\n",
    "fig, axs = plt.subplots(1,2, figsize=(10,6))\n",
    "\n",
    "axs[0].imshow(newset[4])\n",
    "axs[0].set_title('Frame')\n",
    "axs[1].imshow(positions[5])\n",
    "axs[1].set_title('Centre point of boats')\n",
    "\n",
    "plt.show()"
   ]
  },
  {
   "cell_type": "markdown",
   "id": "03d9efa8",
   "metadata": {},
   "source": [
    "The cell below will search for all the dots we put in the frames and save their positions."
   ]
  },
  {
   "cell_type": "code",
   "execution_count": 45,
   "id": "bb30ed67",
   "metadata": {},
   "outputs": [
    {
     "name": "stdout",
     "output_type": "stream",
     "text": [
      "Frame 59: 3 features\n"
     ]
    }
   ],
   "source": [
    "f = tp.batch(positions, diameter=5, minmass=20, processes='auto', invert=False)#37"
   ]
  },
  {
   "cell_type": "markdown",
   "id": "cf7a23ef",
   "metadata": {},
   "source": [
    "We've now got locations for all our dots! But to get information on the movement of the boats it is important that we can label boats. The code snippet below will compare all our dots frame by frame and detect which ones are which boat."
   ]
  },
  {
   "cell_type": "code",
   "execution_count": 46,
   "id": "9db9544e",
   "metadata": {},
   "outputs": [
    {
     "name": "stdout",
     "output_type": "stream",
     "text": [
      "Frame 59: 3 trajectories present.\n"
     ]
    }
   ],
   "source": [
    "search_range = 140 \n",
    "memory       = 20\n",
    "\n",
    "t = tp.link(f, search_range=search_range, memory=memory)# WAS 90\n",
    "# t1 = tp.filter_stubs(t, 50)\n",
    "# t1['t']=t1['frames']"
   ]
  },
  {
   "cell_type": "code",
   "execution_count": 47,
   "id": "160ffec3",
   "metadata": {},
   "outputs": [
    {
     "data": {
      "text/html": [
       "<div>\n",
       "<style scoped>\n",
       "    .dataframe tbody tr th:only-of-type {\n",
       "        vertical-align: middle;\n",
       "    }\n",
       "\n",
       "    .dataframe tbody tr th {\n",
       "        vertical-align: top;\n",
       "    }\n",
       "\n",
       "    .dataframe thead th {\n",
       "        text-align: right;\n",
       "    }\n",
       "</style>\n",
       "<table border=\"1\" class=\"dataframe\">\n",
       "  <thead>\n",
       "    <tr style=\"text-align: right;\">\n",
       "      <th></th>\n",
       "      <th>y</th>\n",
       "      <th>x</th>\n",
       "      <th>mass</th>\n",
       "      <th>size</th>\n",
       "      <th>ecc</th>\n",
       "      <th>signal</th>\n",
       "      <th>raw_mass</th>\n",
       "      <th>ep</th>\n",
       "      <th>frame</th>\n",
       "      <th>particle</th>\n",
       "    </tr>\n",
       "  </thead>\n",
       "  <tbody>\n",
       "    <tr>\n",
       "      <th>0</th>\n",
       "      <td>884.856934</td>\n",
       "      <td>392.856934</td>\n",
       "      <td>398.560505</td>\n",
       "      <td>1.395794</td>\n",
       "      <td>0.217477</td>\n",
       "      <td>49.625454</td>\n",
       "      <td>2805.0</td>\n",
       "      <td>0.0</td>\n",
       "      <td>0</td>\n",
       "      <td>0</td>\n",
       "    </tr>\n",
       "    <tr>\n",
       "      <th>1</th>\n",
       "      <td>907.856934</td>\n",
       "      <td>424.856934</td>\n",
       "      <td>398.560505</td>\n",
       "      <td>1.395794</td>\n",
       "      <td>0.217477</td>\n",
       "      <td>49.625454</td>\n",
       "      <td>2805.0</td>\n",
       "      <td>0.0</td>\n",
       "      <td>0</td>\n",
       "      <td>1</td>\n",
       "    </tr>\n",
       "    <tr>\n",
       "      <th>2</th>\n",
       "      <td>1411.856934</td>\n",
       "      <td>1426.856934</td>\n",
       "      <td>398.560505</td>\n",
       "      <td>1.395794</td>\n",
       "      <td>0.217477</td>\n",
       "      <td>49.625454</td>\n",
       "      <td>2805.0</td>\n",
       "      <td>0.0</td>\n",
       "      <td>0</td>\n",
       "      <td>2</td>\n",
       "    </tr>\n",
       "    <tr>\n",
       "      <th>3</th>\n",
       "      <td>866.856934</td>\n",
       "      <td>335.856934</td>\n",
       "      <td>398.560505</td>\n",
       "      <td>1.395794</td>\n",
       "      <td>0.217477</td>\n",
       "      <td>49.625454</td>\n",
       "      <td>2805.0</td>\n",
       "      <td>0.0</td>\n",
       "      <td>1</td>\n",
       "      <td>0</td>\n",
       "    </tr>\n",
       "    <tr>\n",
       "      <th>4</th>\n",
       "      <td>901.856934</td>\n",
       "      <td>349.856934</td>\n",
       "      <td>398.560505</td>\n",
       "      <td>1.395794</td>\n",
       "      <td>0.217477</td>\n",
       "      <td>49.625454</td>\n",
       "      <td>2805.0</td>\n",
       "      <td>0.0</td>\n",
       "      <td>1</td>\n",
       "      <td>1</td>\n",
       "    </tr>\n",
       "    <tr>\n",
       "      <th>...</th>\n",
       "      <td>...</td>\n",
       "      <td>...</td>\n",
       "      <td>...</td>\n",
       "      <td>...</td>\n",
       "      <td>...</td>\n",
       "      <td>...</td>\n",
       "      <td>...</td>\n",
       "      <td>...</td>\n",
       "      <td>...</td>\n",
       "      <td>...</td>\n",
       "    </tr>\n",
       "    <tr>\n",
       "      <th>174</th>\n",
       "      <td>656.856934</td>\n",
       "      <td>625.856934</td>\n",
       "      <td>398.560505</td>\n",
       "      <td>1.395794</td>\n",
       "      <td>0.217477</td>\n",
       "      <td>49.625454</td>\n",
       "      <td>2805.0</td>\n",
       "      <td>0.0</td>\n",
       "      <td>58</td>\n",
       "      <td>1</td>\n",
       "    </tr>\n",
       "    <tr>\n",
       "      <th>175</th>\n",
       "      <td>1411.856934</td>\n",
       "      <td>1426.856934</td>\n",
       "      <td>398.560505</td>\n",
       "      <td>1.395794</td>\n",
       "      <td>0.217477</td>\n",
       "      <td>49.625454</td>\n",
       "      <td>2805.0</td>\n",
       "      <td>0.0</td>\n",
       "      <td>58</td>\n",
       "      <td>2</td>\n",
       "    </tr>\n",
       "    <tr>\n",
       "      <th>176</th>\n",
       "      <td>629.856934</td>\n",
       "      <td>599.856934</td>\n",
       "      <td>398.560505</td>\n",
       "      <td>1.395794</td>\n",
       "      <td>0.217477</td>\n",
       "      <td>49.625454</td>\n",
       "      <td>2805.0</td>\n",
       "      <td>0.0</td>\n",
       "      <td>59</td>\n",
       "      <td>0</td>\n",
       "    </tr>\n",
       "    <tr>\n",
       "      <th>177</th>\n",
       "      <td>658.856934</td>\n",
       "      <td>626.856934</td>\n",
       "      <td>398.560505</td>\n",
       "      <td>1.395794</td>\n",
       "      <td>0.217477</td>\n",
       "      <td>49.625454</td>\n",
       "      <td>2805.0</td>\n",
       "      <td>0.0</td>\n",
       "      <td>59</td>\n",
       "      <td>1</td>\n",
       "    </tr>\n",
       "    <tr>\n",
       "      <th>178</th>\n",
       "      <td>1411.856934</td>\n",
       "      <td>1426.856934</td>\n",
       "      <td>398.560505</td>\n",
       "      <td>1.395794</td>\n",
       "      <td>0.217477</td>\n",
       "      <td>49.625454</td>\n",
       "      <td>2805.0</td>\n",
       "      <td>0.0</td>\n",
       "      <td>59</td>\n",
       "      <td>2</td>\n",
       "    </tr>\n",
       "  </tbody>\n",
       "</table>\n",
       "<p>179 rows × 10 columns</p>\n",
       "</div>"
      ],
      "text/plain": [
       "               y            x        mass      size       ecc     signal  \\\n",
       "0     884.856934   392.856934  398.560505  1.395794  0.217477  49.625454   \n",
       "1     907.856934   424.856934  398.560505  1.395794  0.217477  49.625454   \n",
       "2    1411.856934  1426.856934  398.560505  1.395794  0.217477  49.625454   \n",
       "3     866.856934   335.856934  398.560505  1.395794  0.217477  49.625454   \n",
       "4     901.856934   349.856934  398.560505  1.395794  0.217477  49.625454   \n",
       "..           ...          ...         ...       ...       ...        ...   \n",
       "174   656.856934   625.856934  398.560505  1.395794  0.217477  49.625454   \n",
       "175  1411.856934  1426.856934  398.560505  1.395794  0.217477  49.625454   \n",
       "176   629.856934   599.856934  398.560505  1.395794  0.217477  49.625454   \n",
       "177   658.856934   626.856934  398.560505  1.395794  0.217477  49.625454   \n",
       "178  1411.856934  1426.856934  398.560505  1.395794  0.217477  49.625454   \n",
       "\n",
       "     raw_mass   ep  frame  particle  \n",
       "0      2805.0  0.0      0         0  \n",
       "1      2805.0  0.0      0         1  \n",
       "2      2805.0  0.0      0         2  \n",
       "3      2805.0  0.0      1         0  \n",
       "4      2805.0  0.0      1         1  \n",
       "..        ...  ...    ...       ...  \n",
       "174    2805.0  0.0     58         1  \n",
       "175    2805.0  0.0     58         2  \n",
       "176    2805.0  0.0     59         0  \n",
       "177    2805.0  0.0     59         1  \n",
       "178    2805.0  0.0     59         2  \n",
       "\n",
       "[179 rows x 10 columns]"
      ]
     },
     "execution_count": 47,
     "metadata": {},
     "output_type": "execute_result"
    }
   ],
   "source": [
    "t"
   ]
  },
  {
   "cell_type": "markdown",
   "id": "cffc437a",
   "metadata": {},
   "source": [
    "We've now got the trajectory of our boats! :D"
   ]
  },
  {
   "cell_type": "code",
   "execution_count": 48,
   "id": "c74f6954",
   "metadata": {},
   "outputs": [
    {
     "data": {
      "text/plain": [
       "<matplotlib.legend.Legend at 0x2532a5eb250>"
      ]
     },
     "execution_count": 48,
     "metadata": {},
     "output_type": "execute_result"
    }
   ],
   "source": [
    "plt.axes().set_aspect('equal')\n",
    "if t['particle'].max() != 0:\n",
    "    for i in np.arange(0, t['particle'].max()):\n",
    "        tt = t.loc[t['particle']==i]\n",
    "        plt.plot(tt['x'], tt['y'], label = i)\n",
    "else:\n",
    "    tt = t.loc[t['particle']==0]\n",
    "    plt.scatter(tt['x'], tt['y'], c = tt['frame'], s = 0.7)\n",
    "    plt.plot(tt['x'], tt['y'], color = 'black', zorder = -10, linewidth = 0.5)\n",
    "    \n",
    "plt.imshow(frames[0], zorder = -20)\n",
    "plt.legend()"
   ]
  },
  {
   "cell_type": "code",
   "execution_count": 50,
   "id": "5077f304",
   "metadata": {},
   "outputs": [
    {
     "data": {
      "text/plain": [
       "<matplotlib.legend.Legend at 0x253413e3ed0>"
      ]
     },
     "execution_count": 50,
     "metadata": {},
     "output_type": "execute_result"
    }
   ],
   "source": [
    "if t['particle'].max() != 0:\n",
    "    for i in np.arange(0, t['particle'].max()):\n",
    "        tt = t.loc[t['particle']==i]\n",
    "        plt.plot(tt['frame'], np.sqrt(tt['y']**2 + tt['x']**2), label = i)\n",
    "else:\n",
    "    plt.plot(tt['frame'], np.sqrt(tt['y']**2 + tt['x']**2), label = 0)\n",
    "plt.legend()"
   ]
  },
  {
   "cell_type": "markdown",
   "id": "2b5e344c",
   "metadata": {},
   "source": [
    "## Average speed"
   ]
  },
  {
   "cell_type": "code",
   "execution_count": 67,
   "id": "ce27dd66",
   "metadata": {},
   "outputs": [],
   "source": [
    "displacement = []\n",
    "averageSpeed = []\n",
    "for i in np.arange(0, t['particle'].max()):\n",
    "    tt = t.loc[t['particle'] == i]\n",
    "    tt = tt.reset_index()\n",
    "    S = 0 \n",
    "    for j in range(1, len(tt['x'])):\n",
    "        ds = np.sqrt((tt['x'].iloc[j] - tt['x'].iloc[j - 1])**2 + (tt['y'].iloc[j] - tt['y'].iloc[j - 1])**2)\n",
    "        S = S + ds\n",
    "    displacement.append(S)\n",
    "    averageSpeed.append(S/duration)"
   ]
  },
  {
   "cell_type": "code",
   "execution_count": 68,
   "id": "e0c7803e",
   "metadata": {},
   "outputs": [],
   "source": [
    "data = {\n",
    "    'particle':  np.arange(t['particle'].max()),\n",
    "    'displacement' : displacement,\n",
    "    'averageSpeed' : averageSpeed,\n",
    "    \n",
    "}\n",
    "\n",
    "df = pd.DataFrame(data)"
   ]
  },
  {
   "cell_type": "code",
   "execution_count": 69,
   "id": "46065eb6",
   "metadata": {},
   "outputs": [
    {
     "data": {
      "text/html": [
       "<div>\n",
       "<style scoped>\n",
       "    .dataframe tbody tr th:only-of-type {\n",
       "        vertical-align: middle;\n",
       "    }\n",
       "\n",
       "    .dataframe tbody tr th {\n",
       "        vertical-align: top;\n",
       "    }\n",
       "\n",
       "    .dataframe thead th {\n",
       "        text-align: right;\n",
       "    }\n",
       "</style>\n",
       "<table border=\"1\" class=\"dataframe\">\n",
       "  <thead>\n",
       "    <tr style=\"text-align: right;\">\n",
       "      <th></th>\n",
       "      <th>particle</th>\n",
       "      <th>displacement</th>\n",
       "      <th>averageSpeed</th>\n",
       "    </tr>\n",
       "  </thead>\n",
       "  <tbody>\n",
       "    <tr>\n",
       "      <th>0</th>\n",
       "      <td>0</td>\n",
       "      <td>2027.372306</td>\n",
       "      <td>52.429029</td>\n",
       "    </tr>\n",
       "    <tr>\n",
       "      <th>1</th>\n",
       "      <td>1</td>\n",
       "      <td>1585.450332</td>\n",
       "      <td>41.000669</td>\n",
       "    </tr>\n",
       "  </tbody>\n",
       "</table>\n",
       "</div>"
      ],
      "text/plain": [
       "   particle  displacement  averageSpeed\n",
       "0         0   2027.372306     52.429029\n",
       "1         1   1585.450332     41.000669"
      ]
     },
     "metadata": {},
     "output_type": "display_data"
    }
   ],
   "source": [
    "display(df)"
   ]
  },
  {
   "cell_type": "code",
   "execution_count": 70,
   "id": "392838e1",
   "metadata": {},
   "outputs": [],
   "source": [
    "import skimage\n",
    "from skimage import filters, morphology, color, transform, restoration, feature,measure\n",
    "from skimage.feature import peak_local_max\n",
    "from scipy import ndimage as ndi\n",
    "from skimage.segmentation import watershed"
   ]
  },
  {
   "cell_type": "code",
   "execution_count": 71,
   "id": "a531c80d",
   "metadata": {},
   "outputs": [
    {
     "name": "stdout",
     "output_type": "stream",
     "text": [
      "[1416]\n",
      "[]\n"
     ]
    },
    {
     "name": "stderr",
     "output_type": "stream",
     "text": [
      "C:\\Users\\tiesb\\AppData\\Local\\Temp\\ipykernel_1960\\368432111.py:39: DeprecationWarning: Conversion of an array with ndim > 0 to a scalar is deprecated, and will error in future. Ensure you extract a single element from your array before performing this operation. (Deprecated NumPy 1.25.)\n",
      "  im_mask[np.max([0,int(cyi-radius)]):np.min([int(cyi+radius),np.shape(im)[0]]),np.max([0,int(cxi-radius)]):np.min([int(cxi+radius),np.shape(im)[1]])]=1 #look only around partice positions\n"
     ]
    },
    {
     "ename": "IndexError",
     "evalue": "index 0 is out of bounds for axis 0 with size 0",
     "output_type": "error",
     "traceback": [
      "\u001b[31m---------------------------------------------------------------------------\u001b[39m",
      "\u001b[31mIndexError\u001b[39m                                Traceback (most recent call last)",
      "\u001b[36mCell\u001b[39m\u001b[36m \u001b[39m\u001b[32mIn[71]\u001b[39m\u001b[32m, line 46\u001b[39m\n\u001b[32m     44\u001b[39m plt.figure()\n\u001b[32m     45\u001b[39m plt.imshow(im[\u001b[32m0\u001b[39m:\u001b[32m100\u001b[39m,\u001b[32m800\u001b[39m:\u001b[32m1000\u001b[39m])\n\u001b[32m---> \u001b[39m\u001b[32m46\u001b[39m plt.plot(\u001b[43mcoord\u001b[49m\u001b[43m[\u001b[49m\u001b[32;43m0\u001b[39;49m\u001b[43m,\u001b[49m\u001b[32;43m1\u001b[39;49m\u001b[43m]\u001b[49m-\u001b[32m800\u001b[39m,coord[\u001b[32m0\u001b[39m,\u001b[32m0\u001b[39m],marker=\u001b[33m'\u001b[39m\u001b[33m*\u001b[39m\u001b[33m'\u001b[39m,color=\u001b[33m'\u001b[39m\u001b[33mr\u001b[39m\u001b[33m'\u001b[39m)\n\u001b[32m     47\u001b[39m plt.show()\n",
      "\u001b[31mIndexError\u001b[39m: index 0 is out of bounds for axis 0 with size 0"
     ]
    }
   ],
   "source": [
    "i=0\n",
    "particle_num=1\n",
    "radius = [15]\n",
    "thresh=None\n",
    "plt.figure()\n",
    "plt.imshow(frames[i])\n",
    "plt.show()\n",
    "\n",
    "r,gr,b = frames[i][:,:,0],frames[i][:,:,1],frames[i][:,:,2]\n",
    "red=(abs((r/np.max(r))-(gr/np.max(gr)))+abs((gr/np.max(gr))-(b/np.max(b)))+abs((r/np.max(r))-(b/np.max(b)))) #map colors to red -> white, else->black\n",
    "gre=(abs((gr/np.max(gr))-(r/np.max(r)))-abs((r/np.max(r))-(b/np.max(b)))+abs((gr/np.max(gr))-(b/np.max(b)))) #map colors to set green -> white\n",
    "blu=abs((r/np.max(r))-(b/np.max(b)))+abs((gr/np.max(gr))-(b/np.max(b)))-abs((gr/np.max(gr))-(r/np.max(r))) #map colors to set blue -> white\n",
    "\n",
    "red = filters.gaussian(red,sigma=3)\n",
    "if thresh is None:\n",
    "    thresh = skimage.filters.threshold_otsu(red)\n",
    "    \n",
    "binary_red = np.zeros(np.shape(red))\n",
    "binary_red[red>thresh]=1\n",
    "\n",
    "area = np.sum(binary_red)\n",
    "if radius is None:\n",
    "    radius = [np.sqrt(area/np.pi)] #create radius by the pixle size of the masked object\n",
    "\n",
    "circles = transform.hough_circle(binary_red,radius=radius)\n",
    "accums, cx, cy, rad = transform.hough_circle_peaks(circles, radius, total_num_peaks=particle_num)\n",
    "\n",
    "plt.figure()\n",
    "plt.imshow(binary_red)\n",
    "plt.plot(cx,cy,marker='*',c='r')\n",
    "plt.show()\n",
    "\n",
    "#check blue and green channels\n",
    "for i,im in enumerate([gre,blu]):\n",
    "    im = filters.gaussian(im,sigma=3)\n",
    "    im_mask = np.zeros(np.shape(im))\n",
    "    print(cx)\n",
    "    for cxi,cyi in zip(cx,cy):\n",
    "        im_mask[np.max([0,int(cyi-radius)]):np.min([int(cyi+radius),np.shape(im)[0]]),np.max([0,int(cxi-radius)]):np.min([int(cxi+radius),np.shape(im)[1]])]=1 #look only around partice positions\n",
    "    im*=im_mask\n",
    "    thresh_peak = filters.threshold_otsu(im)\n",
    "    coord = peak_local_max(im, min_distance=int(radius[0]),threshold_abs=thresh_peak,num_peaks=particle_num)\n",
    "    print(coord)\n",
    "    plt.figure()\n",
    "    plt.imshow(im[0:100,800:1000])\n",
    "    plt.plot(coord[0,1]-800,coord[0,0],marker='*',color='r')\n",
    "    plt.show()"
   ]
  },
  {
   "cell_type": "code",
   "execution_count": 72,
   "id": "35db4c01",
   "metadata": {},
   "outputs": [],
   "source": [
    "def spot_detection_3points(frames,shorten=1,reducefps=12,radius=[40],thresh=None,particle_num=1):\n",
    "    \"\"\"This script reads frames from a .mp4 file, transforms channels, \n",
    "    such that blue and red are mapped to dark, black is mapped to white. \n",
    "    Filtering, thresholding, Hough Circle transform\n",
    "    Final positions are centres of the Hough Circles\n",
    "\n",
    "    Args:\n",
    "        file_name (Path) : Path to raw data (.mp4 file)\n",
    "        shorten   (int, default: 1)  : quotient by which time series is shortened\n",
    "        reducefps (int, default: 12)  : every Nth step only used, \n",
    "        radius (list of int, default: [30,32]) : Radii to test for Hough transform\n",
    "\n",
    "    Returns:\n",
    "        pandas Dataframe: with positions 'x','y' and time 'frame','t'\n",
    "    \"\"\"\n",
    "    x=[]\n",
    "    y=[]\n",
    "    xg=[]\n",
    "    xb=[]\n",
    "    yg=[]\n",
    "    yb=[]\n",
    "    radii=[]\n",
    "    a=[]\n",
    "    t=[]\n",
    "    for i in range(0,int(len(frames)/shorten),reducefps):\n",
    "        r,gr,b = frames[i][:,:,0],frames[i][:,:,1],frames[i][:,:,2]\n",
    "        red=(abs((r/np.max(r))-(gr/np.max(gr)))+abs((gr/np.max(gr))-(b/np.max(b)))+abs((r/np.max(r))-(b/np.max(b)))) #map colors to red -> white, else->black\n",
    "        gre=(abs((gr/np.max(gr))-(r/np.max(r)))-abs((r/np.max(r))-(b/np.max(b)))+abs((gr/np.max(gr))-(b/np.max(b)))) #map colors to set green -> white\n",
    "        blu=-abs((gr/np.max(gr))-(r/np.max(r)))+abs((r/np.max(r))-(b/np.max(b)))+abs((gr/np.max(gr))-(b/np.max(b))) #map colors to set blue -> white\n",
    "        red = filters.gaussian(red,sigma=2)\n",
    "        \n",
    "        if thresh is None:\n",
    "            thresh = skimage.filters.threshold_otsu(red)\n",
    "        binary_red = np.zeros(np.shape(red))\n",
    "        binary_red[red>thresh]=1   \n",
    "        \n",
    "        area = np.sum(binary_red)/particle_num\n",
    "        \n",
    "        if radius is None:\n",
    "            radius = [np.sqrt(area/np.pi)] #create radius by the pixle size of the masked object\n",
    "\n",
    "        circles = transform.hough_circle(binary_red,radius=radius)\n",
    "        accums, cx, cy, rad = transform.hough_circle_peaks(circles, radius, total_num_peaks=particle_num)\n",
    "\n",
    "        #check blue and green channels\n",
    "        for j,im in enumerate([gre,blu]):\n",
    "            im = filters.gaussian(im,sigma=3)\n",
    "            im_mask = np.zeros(np.shape(im))\n",
    "            for cxi,cyi in zip(cx,cy):\n",
    "                im_mask[np.max([0,int(cyi-radius)]):np.min([int(cyi+radius),np.shape(im)[0]]),np.max([0,int(cxi-radius)]):np.min([int(cxi+radius),np.shape(im)[0]])]=1 #look only around partice positions\n",
    "            im*=im_mask\n",
    "            thresh_peak = filters.threshold_otsu(im)\n",
    "            \n",
    "            \n",
    "#             plt.figure()\n",
    "#             plt.imshow(im)\n",
    "#             plt.show()\n",
    "            \n",
    "            \n",
    "            coord = peak_local_max(im, min_distance=int(radius[0]),threshold_abs=thresh_peak,num_peaks=particle_num)\n",
    "            \n",
    "            \n",
    "#             print(coord)\n",
    "#             plt.figure()\n",
    "#             plt.imshow(im[:200,800:1000])\n",
    "#             plt.plot(coord[0,1]-800,coord[0,0],marker='*',color='r')\n",
    "#             plt.show()\n",
    "            \n",
    "            \n",
    "            if j==0:\n",
    "                xg.extend(coord[:,1])\n",
    "                yg.extend(coord[:,0])\n",
    "            else:\n",
    "                xb.extend(coord[:,1])\n",
    "                yb.extend(coord[:,0])\n",
    "        x.extend(cx)\n",
    "        y.extend(cy)\n",
    "        radii.extend(rad)\n",
    "        a.extend(accums)\n",
    "        t.extend([i/reducefps]*particle_num)\n",
    "#     print(t)\n",
    "\n",
    "#     print(len(y))\n",
    "    p = pd.DataFrame({'y': [*y],\n",
    "                      'x': [*x],\n",
    "                      'xb': [*xb],\n",
    "                      'xg': [*xg],\n",
    "                      'yb': [*yb],\n",
    "                      'yg': [*yg],\n",
    "                      'frame': [*t] ,\n",
    "                      't': [*t]})\n",
    "    \n",
    "    return p"
   ]
  },
  {
   "cell_type": "code",
   "execution_count": 73,
   "id": "f003fe19",
   "metadata": {},
   "outputs": [
    {
     "data": {
      "text/plain": [
       "720"
      ]
     },
     "execution_count": 73,
     "metadata": {},
     "output_type": "execute_result"
    }
   ],
   "source": [
    "len(frames)"
   ]
  },
  {
   "cell_type": "code",
   "execution_count": null,
   "id": "a400e66e",
   "metadata": {},
   "outputs": [
    {
     "name": "stderr",
     "output_type": "stream",
     "text": [
      "C:\\Users\\tiesb\\AppData\\Local\\Temp\\ipykernel_1960\\3874495728.py:60: RuntimeWarning: When min_distance < 1, peak_local_max acts as finding image > max(threshold_abs, threshold_rel * max(image)).\n",
      "  coord = peak_local_max(im, min_distance=int(radius[0]),threshold_abs=thresh_peak,num_peaks=particle_num)\n"
     ]
    }
   ],
   "source": [
    "p = spot_detection_3points(frames,  thresh = 0.9,radius = None, reducefps=1)"
   ]
  },
  {
   "cell_type": "code",
   "execution_count": null,
   "id": "4181a997",
   "metadata": {},
   "outputs": [],
   "source": [
    "plt.scatter(p['x'], p['y'], s = 5, color = 'black')\n",
    "plt.scatter(p['xb'], p['yb'],s = 0.9, color = 'blue')\n",
    "plt.scatter( p['xg'],p['yg'], s = 0.9, color = 'green')\n",
    "plt.imshow(frames[0])"
   ]
  },
  {
   "cell_type": "code",
   "execution_count": null,
   "id": "4f205b4f",
   "metadata": {},
   "outputs": [],
   "source": [
    "fig, ax = plt.subplots()\n",
    "ax.scatter(p['xg'], p['yg'], color = 'lawngreen')\n",
    "ax.scatter(p['xb'], p['yb'], color = 'dodgerblue')\n",
    "ax.scatter(p['x'], p['y'], color = 'red')\n",
    "ax.set_aspect('equal', adjustable='box')\n",
    "ax.set_xlabel('x')\n",
    "ax.set_ylabel('y')"
   ]
  },
  {
   "cell_type": "code",
   "execution_count": null,
   "id": "bb89afef",
   "metadata": {},
   "outputs": [],
   "source": [
    "def displacement(dataframe):\n",
    "    totalFrames = len(dataframe['t'])\n",
    "    displacementList = []\n",
    "    \n",
    "    for i in np.arange(0, totalFrames - 1):\n",
    "        data1 = dataframe.loc[dataframe['frame'] == i]\n",
    "        data2 = dataframe.loc[dataframe['frame'] == i + 1]\n",
    "        \n",
    "        ds = np.sqrt( (data2.iloc[0]['x']-data1.iloc[0]['x'])**2  + (data2.iloc[0]['y']-data1.iloc[0]['y'])**2)\n",
    "\n",
    "        displacementList.append(ds)\n",
    "        \n",
    "    return displacementList"
   ]
  },
  {
   "cell_type": "code",
   "execution_count": null,
   "id": "35d07db4",
   "metadata": {},
   "outputs": [],
   "source": [
    "displacementList = displacement(p)"
   ]
  },
  {
   "cell_type": "code",
   "execution_count": null,
   "id": "164760e0",
   "metadata": {},
   "outputs": [],
   "source": [
    "displacementList"
   ]
  },
  {
   "cell_type": "code",
   "execution_count": null,
   "id": "cdc34cd2",
   "metadata": {},
   "outputs": [],
   "source": [
    "plt.scatter(p['frame'][:-1],displacementList)\n",
    "plt.title('distance')\n",
    "plt.show()"
   ]
  },
  {
   "cell_type": "code",
   "execution_count": null,
   "id": "ef42e638",
   "metadata": {},
   "outputs": [],
   "source": [
    "def angle(dataframe):\n",
    "    totalFrames = len(dataframe['t'])\n",
    "    angleList = []\n",
    "    \n",
    "    for i in np.arange(0, totalFrames):\n",
    "        data = dataframe.loc[dataframe['frame'] == i]\n",
    "        dx = data.iloc[0]['xb'] - data.iloc[0]['xg']\n",
    "        dy = data.iloc[0]['yb'] - data.iloc[0]['yg']\n",
    "        angle = np.arctan(dy/dx)\n",
    "        angleList.append(angle)\n",
    "        \n",
    "    return angleList"
   ]
  },
  {
   "cell_type": "code",
   "execution_count": null,
   "id": "cc9149f2",
   "metadata": {},
   "outputs": [],
   "source": [
    "angles = angle(p)"
   ]
  },
  {
   "cell_type": "code",
   "execution_count": null,
   "id": "21da21b4",
   "metadata": {},
   "outputs": [],
   "source": [
    "plt.plot(p['frame'], angles)\n",
    "plt.xlabel('frame')\n",
    "plt.ylabel('angle')\n",
    "plt.show()"
   ]
  },
  {
   "cell_type": "code",
   "execution_count": null,
   "id": "b709de56",
   "metadata": {},
   "outputs": [],
   "source": [
    "plt.plot(p['frame'],p['yg'], color = 'lawngreen')\n",
    "plt.plot(p['frame'],p['yb'], color = 'dodgerblue')\n",
    "plt.plot()"
   ]
  }
 ],
 "metadata": {
  "kernelspec": {
   "display_name": "cheerio",
   "language": "python",
   "name": "python3"
  },
  "language_info": {
   "codemirror_mode": {
    "name": "ipython",
    "version": 3
   },
   "file_extension": ".py",
   "mimetype": "text/x-python",
   "name": "python",
   "nbconvert_exporter": "python",
   "pygments_lexer": "ipython3",
   "version": "3.13.2"
  }
 },
 "nbformat": 4,
 "nbformat_minor": 5
}
