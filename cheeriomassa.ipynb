{
 "cells": [
  {
   "cell_type": "markdown",
   "metadata": {},
   "source": [
    "# Cheerio boat mass and bubble height estimation\n",
    "\n",
    "### Intro:\n",
    "The goal of this document is to adapt the heigth of the air pocket on the cheerioboat such that the exit port of the boat is at the surface level. To do this we will estimate the mass of the cheerioboat.\n",
    "\n",
    "We will make a few assumptions:\n",
    "- The boat is printed using solid infill density.\n",
    "- The density of the used filament stays constant.\n",
    "- Any mass lost by holes used for propulsion is negligable.\n",
    "- The boat is circularly symmetric.\n",
    "- The floatation of the boat is in equilibrium.\n",
    "- Surface tension forces do not affect the floatation of the boat.\n",
    "\n",
    "\n",
    "### Parameters:\n",
    "<img src=\"cheerio_dimensions_annotated.png\" width=\"300\"><br>\n",
    "|Parameter|Definition|\n",
    "|------|------|\n",
    "| $R$:  | The radius of the cylindrical part of the boat. | \n",
    "| $\\text{d}$:  | The thickness of the walls and floors. | \n",
    "| $s$:  | The height of the air pocket. | \n",
    "| $c$:  | The height of the ring where the fuel channel resides in. | \n",
    "| $\\text{l}$:  | The lenght of the of the channel ring. | \n",
    "| $h$:  | The height of the fuel containing cone. | \n",
    "| $n$:  | The height of the neck of the cone. | \n",
    "| $o$:  | The radius of the opening of the cone.  | \n",
    "| $\\rho$:| The density of the filament. |\n",
    "\n",
    "### Calculations:\n",
    "To make calculations more compact we introduce some more values: <br>\n",
    "The slope and slope angle of the cheerio boat cone: $\\beta = \\frac{d+o-R+\\text{l}}{h-n-c}$, $\\theta = \\arctan{-\\beta}$.<br>\n",
    "A linear equation relating the radius of the cone to its height from the top of the air pocket: $r(z) = \\beta z+R-l-\\beta c$.<br>\n",
    "\n",
    "We will sum the volumes of the individual components from bottom to top:<br>\n",
    "$\\begin{align}\n",
    "    V &= \\pi \\text{d} R^2 &&\\text{bottom slab of air bubble}\\\\% bottom slab air bubble\n",
    "      &+ \\pi s \\left(2\\text{d}R-\\text{d}^2\\right) &&\\text{air bubble wall}\\\\ % air bubble wall\n",
    "      &+ \\pi \\text{d} R^2 &&\\text{top slab of air bubble}\\\\% top slab air bubble &\n",
    "      &+ \\pi c \\left(2\\text{l}R-\\text{l}^2\\right) &&\\text{channel ring}\\\\ \n",
    "      &+ \\int_{0}^{h-n}\\int_{0}^{2\\pi}\\int_{r(z)-\\frac{d}{\\cos{(\\theta)}}}^{r(z)}rdrd\\phi dz &&\\text{cone}\\\\\n",
    "      &- \\int_{0}^{c}\\int_{0}^{2\\pi}\\int_{R-\\text{l}}^{r(z)}rdrd\\phi dz  &&\\text{ring \\& cone overlap correction}\\\\\n",
    "      &+ \\pi n \\left(2\\text{d}o+\\text{d}^2\\right) &&\\text{neck ring}\n",
    "\\end{align}$\n",
    "\n",
    "Evaluating the integrals and filling in $\\theta$, we get:\n",
    "$\\begin{align}\n",
    "    V &= \\pi \\text{d} R^2 &&\\text{bottom slab of air bubble}\\\\% bottom slab air bubble\n",
    "      &+ \\pi s \\left(2\\text{d}R-\\text{d}^2\\right) &&\\text{air bubble wall}\\\\ % air bubble wall\n",
    "      &+ \\pi \\text{d} R^2 &&\\text{top slab of air bubble}\\\\% top slab air bubble &\n",
    "      &+ \\pi c \\left(2\\text{l}R-\\text{l}^2\\right) &&\\text{channel ring}\\\\ \n",
    "      &+ \\pi\\text{d}\\left(h-n\\right)\\sqrt{1+\\beta^2}\\left(2R-\\beta\\left(2c-h+n\\right)-\\text{d}\\sqrt{1+\\beta^2}-2\\text{l}\\right) &&\\text{cone}\\\\\n",
    "      &- \\frac{\\pi}{3}\\beta c^2\\left(\\beta c +3 \\text{l} - 3R\\right)  &&\\text{ring \\& cone overlap correction}\\\\\n",
    "      &+ \\pi n \\left(2\\text{d}o+\\text{d}^2\\right) &&\\text{neck ring}\n",
    "\\end{align}$\n",
    "\n",
    "using $\\cos\\left(\\arctan\\left(-\\beta\\right)\\right) = \\frac{1}{\\sqrt{1+\\beta^2}}$."
   ]
  },
  {
   "cell_type": "code",
   "execution_count": 1,
   "metadata": {},
   "outputs": [
    {
     "name": "stdout",
     "output_type": "stream",
     "text": [
      "72.2566310325652*s + 1601.76424006201\n"
     ]
    }
   ],
   "source": [
    "from sympy.parsing.latex import parse_latex\n",
    "from sympy.solvers import solve\n",
    "from sympy import Symbol\n",
    "from numpy import pi\n",
    "\n",
    "# waardes in mm\n",
    "values = {\n",
    "    'R' : 12,\n",
    "    'pi': pi,\n",
    "    'l' : 2,\n",
    "    'c' : 1.2,\n",
    "    'n' : 1,\n",
    "    'o' : 2.5,\n",
    "    'd' : 1,\n",
    "    'h' : 12,\n",
    "    's' : 5.5, \n",
    "    'rho' : 0.00126, # g/mm^3 \n",
    "    'mu' : 0.000997, # g/mm^3\n",
    "    'extra_mass' : 1 # g\n",
    "}\n",
    "\n",
    "values['b'] = (values['d'] + values['o'] - values['R'] + values['l']) / (values['h'] - values['n'] - values['c']) # beta\n",
    "\n",
    "# oude formule\n",
    "volume_eq = r\"\"\"\n",
    "  \\pi d*R^2\n",
    "+ \\pi s*(2d*R-d^2)\n",
    "+ \\pi d*R^2\n",
    "+ \\pi c*(2l*R-l^2)\n",
    "+ \\pi d*(h-n)\\sqrt{1+b^2}(2R-b*(2c-h+n)-d*\\sqrt{1+b^2}-2l)\n",
    "- \\frac{\\pi}{3}b c^2(b*c +3 l - 3R)\n",
    "+ \\pi n*(2d*o+d^2)\n",
    "\"\"\"\n",
    "\n",
    "parts = {\n",
    "    'bubble_slab_bot': r'\\pi*d*R^2',\n",
    "    'bubble_wall': r'\\pi*s*(2d*R-d^2)',\n",
    "    'bubble_slab_top': r'\\pi*d*R^2',\n",
    "    'channel_ring': r'\\pi*c*(2l*R-l^2)',\n",
    "    'cone': r'(\\int_{0}^{h-n}\\int_{0}^{2\\pi}\\int_{b*z+R-l-b*c-d*\\sqrt{1+b^2}}^{b*z+R-l-b*c}r drd\\phi dz)',\n",
    "    'cone_corr': r'-(\\int_{0}^{c}\\int_{0}^{2\\pi}\\int_{R-l}^{b*z+R-l-b*c}r drd\\phi dz)',\n",
    "    'neck' : r'\\pi*n*(2d*o+d^2)'\n",
    "}\n",
    "\n",
    "volume_expression  = parse_latex('+'.join(parts.values()))\n",
    "\n",
    "volume_values = {symb:values[str(symb)] for symb in volume_expression.free_symbols} # \n",
    "s_symbol = [x for x in volume_expression.free_symbols if str(x)=='s'][0]\n",
    "\n",
    "volume_values.pop(s_symbol) # s weer een vrije variabele maken\n",
    "\n",
    "evaluated_expression = volume_expression.subs(volume_values).doit()\n",
    "print(evaluated_expression)"
   ]
  },
  {
   "cell_type": "markdown",
   "metadata": {},
   "source": [
    "#### Archimedes' principle:\n",
    "Now that we have the mass of the cheerio boat as a function of the height of the air bubble. We can use archimedes principle to find the optimal height such that the exit port lies at the water surface.\n",
    "$$m_{boat}g - \\mu_{water} g V_{boat} = 0$$\n",
    "$$m_{boat} = \\mu_{water} V_{boat}$$\n",
    "With $\\mu_{water}$ the denity of the water. $V_{boat}$ is the volume of water that the boat displaces. We will assume that this wil always be a cylinder. If we take this volume to be the volume of a cylinder that reaches to the bottom of the outlet we get:\n",
    "$$V_{boat} = \\pi R^2 (d + s + d)$$"
   ]
  },
  {
   "cell_type": "code",
   "execution_count": 2,
   "metadata": {},
   "outputs": [
    {
     "name": "stdout",
     "output_type": "stream",
     "text": [
      "2.11615859429697 - 0.359988818989547*s\n",
      "[5.87840089099661]\n"
     ]
    }
   ],
   "source": [
    "displacement_expression = parse_latex(r\"\"\"\\mu\\pi*R^2*(d + s + d)\"\"\")\n",
    "\n",
    "displacement_values = {symb:values[str(symb)] for symb in displacement_expression.free_symbols}\n",
    "displacement_values.pop(s_symbol) # s weer een vrije variabele maken\n",
    "\n",
    "archimedes_expression = values['rho'] * evaluated_expression - displacement_expression.subs(displacement_values) + values['extra_mass']\n",
    "\n",
    "print(archimedes_expression)\n",
    "print(solve(archimedes_expression, s_symbol))\n"
   ]
  }
 ],
 "metadata": {
  "kernelspec": {
   "display_name": "main",
   "language": "python",
   "name": "python3"
  },
  "language_info": {
   "codemirror_mode": {
    "name": "ipython",
    "version": 3
   },
   "file_extension": ".py",
   "mimetype": "text/x-python",
   "name": "python",
   "nbconvert_exporter": "python",
   "pygments_lexer": "ipython3",
   "version": "3.12.7"
  }
 },
 "nbformat": 4,
 "nbformat_minor": 2
}
